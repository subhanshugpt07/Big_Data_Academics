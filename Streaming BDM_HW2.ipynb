{
 "cells": [
  {
   "cell_type": "code",
   "execution_count": 1,
   "metadata": {
    "collapsed": false
   },
   "outputs": [
    {
     "name": "stdout",
     "output_type": "stream",
     "text": [
      "/Users/arnavsomani/Desktop/NYUCOURSE/sem34/ba/rprogrammingcsvfiles\n"
     ]
    }
   ],
   "source": [
    "cd /Users/arnavsomani/Desktop/NYUCOURSE/sem34/ba/rprogrammingcsvfiles"
   ]
  },
  {
   "cell_type": "markdown",
   "metadata": {},
   "source": [
    "# Homework 2\n",
    "\n",
    "### DUE: 02/16/2017 before class at 10:30am\n",
    "\n",
    "The objective of this homework is for gaining experiences in designing *streaming* algorithms. Similar to Homework 1, we’re going to use the Citibike data sets posted on NYU Classes. In addition to **citibike.csv** we will also use **citibike_docking_events.csv**. Both of the data sets can be downloaded from the NYU Classes's Resources page. You are required to turn in this notebook with all the parts filled in place of <###>. Your notebook must be named BDM\\_HW2\\_**NetId**.ipynb.\n",
    "\n",
    "\n",
    "\n",
    "## Task 1 (6 points)\n",
    "\n",
    "Your task is to **compute the maximum number of active \"citibikers\"** that were using the Citibike service at any point in time. This the same as computing the maximum number of citibikes that were checked out at a particular time. The input data set is **citibike_docking_events.csv**, which logged all docking and undocking events at all Citibike stations. The description of the fields in this file is as follows:\n",
    "\n",
    "|Column name|Description|\n",
    "|--|--|\n",
    "|time |The timestamp of the event. All events are sorted increasingly by their timestamps. |\n",
    "|bikeid |The unique ID of the bike involved in this event. |\n",
    "|station_id |The station ID, where the event happened. |\n",
    "|event |A string of either *\"dock\"* or *\"undock\"* for describing the drop-off or pick-up event, respectively. |\n",
    "\n",
    "For example, let's assume that on *Feb-01-2015*, there was a user that picked a bike at the station ID *521* at midnight and dropped it at the station ID *423* at 14 minutes past midnight. If the bike that this customer used has the ID of *17131*, then you should see two events being logged in this data set as:\n",
    "\n",
    "<pre>\n",
    "...\n",
    "2015-02-01 00:00:00+00,17131,521,undock\n",
    "...\n",
    "2015-02-01 00:14:00+00,17131,423,dock\n",
    "...\n",
    "</pre>\n",
    "\n",
    "You are given the above data set in a streaming fashion (reading in row by row), and must design a streaming algorithm that uses the least possible additional memory to compute the maximum number of active users of the Citibike service. Please modify the code snippet below to complete this task. Your code should only output a single number, which is the number of active users. Of course, you can add additional initialization codes outside of the for loop as needed.\n",
    "Additional, please provide a brief rationale and/or justification for your design after the code."
   ]
  },
  {
   "cell_type": "code",
   "execution_count": 2,
   "metadata": {
    "collapsed": true
   },
   "outputs": [],
   "source": [
    "import dateutil.parser"
   ]
  },
  {
   "cell_type": "code",
   "execution_count": 3,
   "metadata": {
    "collapsed": false
   },
   "outputs": [],
   "source": [
    "import csv\n",
    "\n",
    "def csvRows(filename):\n",
    "    with open(filename, 'r') as fi:\n",
    "        reader = csv.DictReader(fi)\n",
    "        for row in reader:\n",
    "            yield row"
   ]
  },
  {
   "cell_type": "code",
   "execution_count": 4,
   "metadata": {
    "collapsed": false
   },
   "outputs": [
    {
     "name": "stdout",
     "output_type": "stream",
     "text": [
      "<generator object csvRows at 0x105dc3e10>\n"
     ]
    }
   ],
   "source": [
    "citibike = csvRows('citibike_docking_events.csv')\n",
    "print citibike"
   ]
  },
  {
   "cell_type": "code",
   "execution_count": 5,
   "metadata": {
    "collapsed": false,
    "scrolled": true
   },
   "outputs": [
    {
     "name": "stdout",
     "output_type": "stream",
     "text": [
      "{'event': 'undock', 'station_id': '521', 'bikeid': '17131', 'time': '2015-02-01 00:00:00+00'}\n",
      "{'event': 'undock', 'station_id': '497', 'bikeid': '21289', 'time': '2015-02-01 00:00:00+00'}\n",
      "{'event': 'undock', 'station_id': '281', 'bikeid': '18903', 'time': '2015-02-01 00:01:00+00'}\n"
     ]
    }
   ],
   "source": [
    "print next(citibike)\n",
    "print next(citibike)\n",
    "print next(citibike)"
   ]
  },
  {
   "cell_type": "code",
   "execution_count": 86,
   "metadata": {
    "collapsed": false
   },
   "outputs": [
    {
     "name": "stdout",
     "output_type": "stream",
     "text": [
      "250\n"
     ]
    }
   ],
   "source": [
    "bike_undock = []\n",
    "maxActiveUsers= 0 \n",
    "for row in csvRows('citibike_docking_events.csv'):\n",
    "    if row['event'] == 'undock':\n",
    "        bike_undock.append(row['bikeid'])\n",
    "        current = len(bike_undock)\n",
    "        if current > maxActiveUsers :\n",
    "            maxActiveUsers = current\n",
    "    elif row['event'] == 'dock' and row['bikeid'] in bike_undock: \n",
    "        bike_undock.remove(row['bikeid'])\n",
    "print maxActiveUsers\n",
    "\n"
   ]
  },
  {
   "cell_type": "markdown",
   "metadata": {},
   "source": [
    "\n",
    "#### RATIONALE AND JUSTIFICATION\n",
    "\n",
    "Here, we made a list where, when event is dock, we will append the values of bikeid into that. Then finding the length of the list, we compare it with the maxActiveusers where if the length of current is greater than maxactiveusers, current will store the value of maxacticeusers. Simultanously, we are removing the value from the list when we find a dock valu"
   ]
  },
  {
   "cell_type": "markdown",
   "metadata": {},
   "source": [
    "## Task 2 (4 points)\n",
    "\n",
    "The objective of this task is identical to Task 1's but you are asked to use the **cibibike.csv** data set instead of the docking events. The main difference (and challenge) is that both pick-up and drop-off event for each trip is now presented as a single record, thus, the drop-off events are not sorted by their timestamps. You are again asked to do this in a streaming fashion that needs to minimize the amount of memory usage. Please modify the code below accordingly, and also with a brief explaination of the solution."
   ]
  },
  {
   "cell_type": "code",
   "execution_count": 91,
   "metadata": {
    "collapsed": false
   },
   "outputs": [
    {
     "name": "stdout",
     "output_type": "stream",
     "text": [
      "250\n"
     ]
    }
   ],
   "source": [
    "import csv\n",
    "import dateutil.parser\n",
    "from datetime import datetime\n",
    "\n",
    "def csvRows(filename):\n",
    "    with open(filename, 'r') as fi:\n",
    "        reader = csv.DictReader(fi)\n",
    "        for row in reader:\n",
    "            yield row\n",
    "\n",
    "import dateutil.parser\n",
    "\n",
    "nowusing = 0\n",
    "maxActiveUsers = 0\n",
    "stop = []\n",
    "for row in csvRows('citibike.csv'):\n",
    "    nowusing = nowusing + 1\n",
    "    stop.append(dateutil.parser.parse(row['stoptime']))\n",
    "    current_time = dateutil.parser.parse(row['starttime'])\n",
    "    time = len(stop)\n",
    "    stop = [t for t in stop if current_time < t]\n",
    "    nowusing = nowusing - (time - len(stop))\n",
    "    if maxActiveUsers < nowusing:\n",
    "        maxActiveUsers = nowusing\n",
    "print(maxActiveUsers)"
   ]
  },
  {
   "cell_type": "markdown",
   "metadata": {},
   "source": [
    "#### RATIONALE AND JUSTIFICATION\n",
    "\n",
    "Here, we append the values of stoptime in the list, and store the starttime in the current_time. Measuring the length of stop, we use list comprehension. Now subtracting the length of stop and comparing it with the maxActiveusers, if nowusing is greater than maxActivers, it will take the value for it."
   ]
  },
  {
   "cell_type": "code",
   "execution_count": null,
   "metadata": {
    "collapsed": true
   },
   "outputs": [],
   "source": []
  }
 ],
 "metadata": {
  "kernelspec": {
   "display_name": "Python 2",
   "language": "python",
   "name": "python2"
  },
  "language_info": {
   "codemirror_mode": {
    "name": "ipython",
    "version": 2
   },
   "file_extension": ".py",
   "mimetype": "text/x-python",
   "name": "python",
   "nbconvert_exporter": "python",
   "pygments_lexer": "ipython2",
   "version": "2.7.13"
  }
 },
 "nbformat": 4,
 "nbformat_minor": 0
}
